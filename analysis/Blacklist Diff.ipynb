{
 "cells": [
  {
   "cell_type": "code",
   "execution_count": null,
   "metadata": {
    "collapsed": true
   },
   "outputs": [],
   "source": [
    "# %load blacklist_diff.py\n",
    "import pandas as pd\n",
    "import numpy as np\n",
    "\n",
    "def ComputeDelta(file1, file2):\n",
    "\t#all_files = {file1, file2}\n",
    "\n",
    "\t#df_from_each_file = (pd.read_csv(f) for f in all_files)\n",
    "\t#concatenated_df   = pd.concat(df_from_each_file, ignore_index=True)\n",
    "\t#print(concatenated_df)\n",
    "\n",
    "\t#Read the two files and create two pandas objects\n",
    "\tm1 = pd.read_csv(file1)\n",
    "\tm2 = pd.read_csv(file2)\n",
    "\n",
    "\n",
    "\t#print(m1)\n",
    "\t#print(m2)\n",
    "\n",
    "\t# create a data frame by concating the two data frames\n",
    "\tdf = pd.concat([m1, m2])\n",
    "\tdf = df.reset_index(drop=True)\n",
    "\t#print(df)\n",
    "\tdf_gpby = df.groupby(list(df.columns))\n",
    "\t#Find the indexes for which the lines are repeated\n",
    "\tidx = [x[0] for x in df_gpby.groups.values() if len(x) == 1]\n",
    "\t#print(idx)\n",
    "\tdf.reindex(idx)\n",
    "\t#print(df)\n",
    "\t#Find the indewes that we should keep in our Output\n",
    "\tindexes_list = []\n",
    "\tfor i in range(0,idx[len(idx)-1]):\n",
    "\t\tif(i in idx):\n",
    "\t\t print('')\n",
    "\t\telse:\n",
    "\t\t\t#print('i DROP NUMBER ',i)\n",
    "\t\t\tindexes_list.append(i)\n",
    "\t#print('index_list' , indexes_list)\n",
    "\tm=df.drop(indexes_list)\n",
    "\tprint(m)\n",
    "\n",
    "\t#print(idx)\n",
    "\t#difference_locations = np.where(m1 != m2)\n",
    "\t#print(difference_locations)\n",
    "\n",
    "\t#changed_from = df1.values[difference_locations]\n",
    "\t#print (changed_from)\n",
    "\n",
    "\treturn m\n",
    "#Test with the name of the files\n",
    "toPanda(\"urls1.txt\", \"urls2.txt\")\n"
   ]
  },
  {
   "cell_type": "code",
   "execution_count": 2,
   "metadata": {},
   "outputs": [
    {
     "data": {
      "text/plain": [
       "'a, b'"
      ]
     },
     "execution_count": 2,
     "metadata": {},
     "output_type": "execute_result"
    }
   ],
   "source": [
    "a = ['a','b']\n",
    "', '.join(a)"
   ]
  },
  {
   "cell_type": "code",
   "execution_count": null,
   "metadata": {
    "collapsed": true
   },
   "outputs": [],
   "source": []
  }
 ],
 "metadata": {
  "kernelspec": {
   "display_name": "Python 3",
   "language": "python",
   "name": "python3"
  },
  "language_info": {
   "codemirror_mode": {
    "name": "ipython",
    "version": 3
   },
   "file_extension": ".py",
   "mimetype": "text/x-python",
   "name": "python",
   "nbconvert_exporter": "python",
   "pygments_lexer": "ipython3",
   "version": "3.4.2"
  }
 },
 "nbformat": 4,
 "nbformat_minor": 2
}
